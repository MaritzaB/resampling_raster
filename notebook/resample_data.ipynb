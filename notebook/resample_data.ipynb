{
 "cells": [
  {
   "cell_type": "markdown",
   "metadata": {},
   "source": [
    "# Resampling raster data with Python\n",
    "\n",
    "¿Alguna vez te ha pasado que compras algo en una tienda, solo para dar unos\n",
    "cuantos pasos más y en otra tienda encontrar el mismo producto a un precio más\n",
    "bajo? Bueno, eso mismo me ha pasado cuando encuentro una solución a un problema,\n",
    "para luego encontrar una solución más sencilla y eficiente. En este caso me pasó\n",
    "al buscar como re-muestrear datos raster con Python.\n",
    "\n",
    "Con remuestrear datos raster, nos referimos a cambiar la resolución espacial de\n",
    "una imagen raster, es decir, cambiar el tamaño de los píxeles. Ya sea para hacer\n",
    "mas _fina/alta_ o más gruesa/baja la resolución de la imagen (_upsampling_ y\n",
    "_downsampling_ respectivamente).\n",
    "\n",
    "Esto puede ser útil al integrar datos de diferentes fuentes, es\n",
    "decir, si tienes dos imágenes raster con diferentes resoluciones, podemos hacer\n",
    "que ambas tengan la misma resolución espacial (tamaño de píxel). También puede\n",
    "ser útil para reducir el tamaño de un archivo raster.\n",
    "\n",
    "Cabe destacar, que existen diferentes métodos para remuestrear una imagen\n",
    "raster, algunos de los más comunes son:\n",
    "\n",
    "- **Nearest neighbor**: Este método asigna el valor del píxel más cercano al\n",
    "  nuevo píxel.\n",
    "- **Bilinear**: Este método calcula el valor del nuevo píxel a partir de los\n",
    "    valores de los píxeles vecinos.\n",
    "- **Cubic**: Este método calcula el valor del nuevo píxel a partir de los\n",
    "    valores de los píxeles vecinos, utilizando una función cúbica.\n",
    "- **Cubic spline**: Este método calcula el valor del nuevo píxel a partir de los\n",
    "    valores de los píxeles vecinos, utilizando una función cúbica spline.\n",
    "- **Average**: Este método calcula el valor del nuevo píxel a partir del promedio\n",
    "    de los valores de los píxeles vecinos.\n",
    "\n",
    "Para profundizar más en los métodos de remuestreo, puedes consultar la\n",
    "[documentación de\n",
    "rasterio](https://rasterio.readthedocs.io/en/latest/topics/resampling.html).\n",
    "\n",
    "Para este ejemplo utilizaremos datos mensuales en formato netCDF de variables\n",
    "oceanográficas en el Pacífico Norte. Los datos fueron obtenidos de diferentes\n",
    "fuentes:\n",
    "\n",
    "| Variable | Resolución espacial |\n",
    "|----------|----------------------|\n",
    "| [Temperatura superficial del mar (SST)](https://coastwatch.pfeg.noaa.gov/erddap/griddap/jplMURSST41mday.graph) | 0.01° |\n",
    "| [Concentración de clorofila-a (CHL)](https://coastwatch.pfeg.noaa.gov/erddap/griddap/nesdisVHNSQchlaMonthly.graph?chlor_a) | 0.0375° |\n",
    "| [Velocidad del viento a 10m (U10)](https://data.marine.copernicus.eu/product/WIND_GLO_PHY_CLIMATE_L4_MY_012_003/files?subdataset=cmems_obs-wind_glo_phy_my_l4_P1M_202211) | 0.25° |\n",
    "\n",
    "El objetivo es pasar de la resolución espacial de 0.01° de la SST a la\n",
    "resolución espacial de 0.25° de la velocidad del viento a 10m.\n",
    "\n",
    "Para este ejemplo, utilizaremos las librerías `rasterio` y `xarray`."
   ]
  },
  {
   "cell_type": "markdown",
   "metadata": {},
   "source": [
    "## Remuestreo de datos usando `rasterio`\n",
    "\n",
    "### 1. Convertir netCDF a GeoTIFF\n",
    "\n",
    "Para remuestrear datos raster con `rasterio`, primero necesitamos leer el\n",
    "archivo netCDF y convertirlo a un archivo GeoTIFF. En este caso vamos a\n",
    "convertir los 3 archivos netCDF a GeoTIFF."
   ]
  },
  {
   "cell_type": "code",
   "execution_count": 9,
   "metadata": {},
   "outputs": [
    {
     "name": "stdout",
     "output_type": "stream",
     "text": [
      "Metadata of the dataset: \n",
      " <xarray.Dataset> Size: 68MB\n",
      "Dimensions:    (time: 1, latitude: 3201, longitude: 5301)\n",
      "Coordinates:\n",
      "  * time       (time) datetime64[ns] 8B 2014-01-16\n",
      "  * latitude   (latitude) float32 13kB 23.0 23.01 23.02 ... 54.98 54.99 55.0\n",
      "  * longitude  (longitude) float32 21kB -163.0 -163.0 -163.0 ... -110.0 -110.0\n",
      "Data variables:\n",
      "    sst        (time, latitude, longitude) float32 68MB ...\n",
      "Attributes: (12/40)\n",
      "    cdm_data_type:              Grid\n",
      "    Conventions:                CF-1.6, COARDS, ACDD-1.3\n",
      "    creation_date:              2024-02-03\n",
      "    creator_email:              erd.data@noaa.gov\n",
      "    creator_name:               NOAA NMFS SWFSC ERD and NOAA NESDIS CoastWatc...\n",
      "    creator_type:               institution\n",
      "    ...                         ...\n",
      "    summary:                    A monthly mean Sea Surface Temperature (SST) ...\n",
      "    testOutOfDate:              now-60days\n",
      "    time_coverage_end:          2014-01-16T00:00:00Z\n",
      "    time_coverage_start:        2014-01-16T00:00:00Z\n",
      "    title:                      Multi-scale Ultra-high Resolution (MUR) SST A...\n",
      "    Westernmost_Easting:        -163.0\n"
     ]
    }
   ],
   "source": [
    "import xarray as xr\n",
    "\n",
    "# Read the SST data file and print its contents to verify what are the variables\n",
    "# and dimensions\n",
    "\n",
    "# Define the path to the SST data file\n",
    "sst_file = '../raster_data/2014_01_jplMURSST41.nc'\n",
    "\n",
    "# Open the dataset and print its contents\n",
    "sst_ds = xr.open_dataset(sst_file)\n",
    "print('Metadata of the dataset: \\n', sst_ds)"
   ]
  },
  {
   "cell_type": "markdown",
   "metadata": {},
   "source": [
    "Como podemos observar en los metadata de los archivos netCDF, las dimensiones\n",
    "del archivo son: `(time: 1, latitude: 3201, longitude: 5301)`, mientras que la\n",
    "variable que nos interesa es `sst` (temperatura superficial del mar).\n",
    "\n",
    "Así que seleccionaremos la variable `sst` y asignaremos como dimensiones\n",
    "espaciales: ` latitude` y `longitude`, para luego convertirlo a un archivo\n",
    "GeoTIFF."
   ]
  },
  {
   "cell_type": "code",
   "execution_count": 10,
   "metadata": {},
   "outputs": [
    {
     "name": "stdout",
     "output_type": "stream",
     "text": [
      "<xarray.DataArray 'sst' (time: 1, latitude: 3201, longitude: 5301)> Size: 68MB\n",
      "[16968501 values with dtype=float32]\n",
      "Coordinates:\n",
      "  * time       (time) datetime64[ns] 8B 2014-01-16\n",
      "  * latitude   (latitude) float32 13kB 23.0 23.01 23.02 ... 54.98 54.99 55.0\n",
      "  * longitude  (longitude) float32 21kB -163.0 -163.0 -163.0 ... -110.0 -110.0\n",
      "Attributes:\n",
      "    colorBarMaximum:  32.0\n",
      "    colorBarMinimum:  0.0\n",
      "    ioos_category:    Temperature\n",
      "    long_name:        Sea Surface Temperature Monthly Mean\n",
      "    standard_name:    sea_surface_foundation_temperature\n",
      "    units:            degree_C\n"
     ]
    }
   ],
   "source": [
    "# Select the SST data array and set the spatial dimensions\n",
    "sst_da = sst_ds['sst']\n",
    "sst_da.rio.set_spatial_dims('longitude', 'latitude', inplace=True)\n",
    "print(sst_da)\n",
    "\n",
    "crs = 'EPSG:4326'\n",
    "sst_da.rio.write_crs(crs, inplace=True)\n",
    "\n",
    "# Create directory for GeoTIFF files\n",
    "import os\n",
    "geotiff_dir = '../GeoTIFF_files'\n",
    "if not os.path.exists(geotiff_dir):\n",
    "    os.makedirs('../GeoTIFF_files')\n",
    "\n",
    "# Save the data array as a GeoTIFF file\n",
    "sst_da.rio.to_raster(f'{geotiff_dir}/2014_01_jplMURSST41.tif')"
   ]
  },
  {
   "cell_type": "markdown",
   "metadata": {},
   "source": [
    "El archivo de la velocidad del viendo, que es nuestra resolución objetivo\n",
    "(0.25°) también debemos de covertirlo a un archivo GeoTIFF."
   ]
  },
  {
   "cell_type": "code",
   "execution_count": 11,
   "metadata": {},
   "outputs": [
    {
     "name": "stdout",
     "output_type": "stream",
     "text": [
      "Metadata of the dataset: \n",
      " <xarray.Dataset> Size: 3MB\n",
      "Dimensions:                 (time: 1, lat: 128, lon: 212)\n",
      "Coordinates:\n",
      "  * time                    (time) datetime64[ns] 8B 2014-01-16T12:00:00\n",
      "  * lat                     (lat) float32 512B 23.12 23.38 23.62 ... 54.62 54.88\n",
      "  * lon                     (lon) float32 848B -162.9 -162.6 ... -110.4 -110.1\n",
      "Data variables: (12/13)\n",
      "    eastward_wind           (time, lat, lon) float64 217kB ...\n",
      "    eastward_wind_bias      (time, lat, lon) float64 217kB ...\n",
      "    eastward_wind_sdd       (time, lat, lon) float64 217kB ...\n",
      "    northward_wind          (time, lat, lon) float64 217kB ...\n",
      "    northward_wind_bias     (time, lat, lon) float64 217kB ...\n",
      "    northward_wind_sdd      (time, lat, lon) float64 217kB ...\n",
      "    ...                      ...\n",
      "    eastward_stress_bias    (time, lat, lon) float64 217kB ...\n",
      "    eastward_stress_sdd     (time, lat, lon) float64 217kB ...\n",
      "    northward_stress        (time, lat, lon) float64 217kB ...\n",
      "    northward_stress_bias   (time, lat, lon) float64 217kB ...\n",
      "    northward_stress_sdd    (time, lat, lon) float64 217kB ...\n",
      "    number_of_observations  (time, lat, lon) float32 109kB ...\n",
      "Attributes: (12/25)\n",
      "    title:                       Global Ocean - Wind and Stress - Monthly - F...\n",
      "    summary:                    Global ocean monthly mean 10-m stress-equival...\n",
      "    keywords:                   ocean winds, wind stress\n",
      "    Conventions:                CF-1.6, ACDD-1.3\n",
      "    project:                    Copernicus Marine Service Wind Thematic Assem...\n",
      "    institution:                Royal Netherlands Meteorological Institute (K...\n",
      "    ...                         ...\n",
      "    time_coverage_start:        2014-01-01T00:00:00\n",
      "    time_coverage_end:          2014-01-31T23:59:59\n",
      "    references:                 Copernicus Marine Service Product User Manual...\n",
      "    history:                    N/A\n",
      "    date_created:               2022-10-20T16:16:24\n",
      "    date_modified:              2022-10-20T16:16:24\n"
     ]
    }
   ],
   "source": [
    "# Read the wind data file and print its contents to verify what are the variables\n",
    "\n",
    "# Define the path to the wind data file\n",
    "wind_file = '../raster_data/2014_01_cmems_obs-wind_l4.nc'\n",
    "wind_ds = xr.open_dataset(wind_file)\n",
    "print('Metadata of the dataset: \\n', wind_ds)"
   ]
  },
  {
   "cell_type": "code",
   "execution_count": 12,
   "metadata": {},
   "outputs": [
    {
     "name": "stdout",
     "output_type": "stream",
     "text": [
      "<xarray.DataArray 'eastward_wind' (time: 1, lat: 128, lon: 212)> Size: 217kB\n",
      "[27136 values with dtype=float64]\n",
      "Coordinates:\n",
      "  * time     (time) datetime64[ns] 8B 2014-01-16T12:00:00\n",
      "  * lat      (lat) float32 512B 23.12 23.38 23.62 23.88 ... 54.38 54.62 54.88\n",
      "  * lon      (lon) float32 848B -162.9 -162.6 -162.4 ... -110.6 -110.4 -110.1\n",
      "Attributes:\n",
      "    units:          m s-1\n",
      "    long_name:      stress-equivalent wind eastward component at 10 m\n",
      "    standard_name:  eastward_wind\n",
      "    valid_min:      -5000\n",
      "    valid_max:      5000\n"
     ]
    }
   ],
   "source": [
    "# Select the eastward wind data array and set the spatial dimensions\n",
    "wind_da = wind_ds['eastward_wind']\n",
    "wind_da.rio.set_spatial_dims('lon', 'lat', inplace=True)\n",
    "print(wind_da)\n",
    "\n",
    "wind_da.rio.write_crs(crs, inplace=True)\n",
    "\n",
    "# Save the data array as a GeoTIFF file\n",
    "wind_da.rio.to_raster(f'{geotiff_dir}/2014_01_cmems_obs-wind_l4.tif')"
   ]
  },
  {
   "cell_type": "markdown",
   "metadata": {},
   "source": [
    "Como podemos observar, las dimensiones de las matrices de datos son diferentes:\n",
    "\n",
    "1. Temperatura superficial del mar (0.01°): `(time: 1, latitude: 3201, longitude: 5301)`\n",
    "2. Velocidad del viento a 10m (0.25°): `(time: 1, latitude: 128, longitude: 212)`\n",
    "\n",
    "Los datos de la SST tienen una mayor cantidad de píxeles que los datos de la\n",
    "velocidad del viento."
   ]
  },
  {
   "cell_type": "markdown",
   "metadata": {},
   "source": [
    "### 2. Remuestreo de datos con `rasterio`\n",
    "\n",
    "Una vez que tenemos los archivos GeoTIFF, podemos remuestrear los datos de la\n",
    "SST a la resolución de la velocidad del viento. Para ello, utilizaremos la\n",
    "función sugerida en la [documentación de\n",
    "`rasterio`](https://pygis.io/docs/e_raster_resample.html#example-of-co-registering-rasters-with-rasterio).\n",
    "para remuestrear/reprojectar datos.\n"
   ]
  },
  {
   "cell_type": "code",
   "execution_count": 13,
   "metadata": {},
   "outputs": [],
   "source": [
    "from rasterio.warp import reproject, Resampling, calculate_default_transform\n",
    "import rasterio\n",
    "\n",
    "def reproj_match(infile, match, outfile):\n",
    "    \"\"\"Reproject a file to match the shape and projection of existing raster. \n",
    "    \n",
    "    Parameters\n",
    "    ----------\n",
    "    infile : (string) path to input file to reproject\n",
    "    match : (string) path to raster with desired shape and projection \n",
    "    outfile : (string) path to output file tif\n",
    "    \"\"\"\n",
    "    # open input\n",
    "    with rasterio.open(infile) as src:\n",
    "        src_transform = src.transform\n",
    "        \n",
    "        # open input to match\n",
    "        with rasterio.open(match) as match:\n",
    "            dst_crs = match.crs\n",
    "            \n",
    "            # calculate the output transform matrix\n",
    "            dst_transform, dst_width, dst_height = calculate_default_transform(\n",
    "                src.crs,     # input CRS\n",
    "                dst_crs,     # output CRS\n",
    "                match.width,   # input width\n",
    "                match.height,  # input height \n",
    "                *match.bounds,  # unpacks input outer boundaries (left, bottom, right, top)\n",
    "            )\n",
    "\n",
    "        # set properties for output\n",
    "        dst_kwargs = src.meta.copy()\n",
    "        dst_kwargs.update({\"crs\": dst_crs,\n",
    "                           \"transform\": dst_transform,\n",
    "                           \"width\": dst_width,\n",
    "                           \"height\": dst_height,\n",
    "                           \"nodata\": 0})\n",
    "        print(\"Coregistered to shape:\", dst_height,dst_width,'\\n Affine',dst_transform)\n",
    "        # open output\n",
    "        with rasterio.open(outfile, \"w\", **dst_kwargs) as dst:\n",
    "            # iterate through bands and write using reproject function\n",
    "            for i in range(1, src.count + 1):\n",
    "                reproject(\n",
    "                    source=rasterio.band(src, i),\n",
    "                    destination=rasterio.band(dst, i),\n",
    "                    src_transform=src.transform,\n",
    "                    src_crs=src.crs,\n",
    "                    dst_transform=dst_transform,\n",
    "                    dst_crs=dst_crs,\n",
    "                    resampling=Resampling.nearest)\n"
   ]
  },
  {
   "cell_type": "markdown",
   "metadata": {},
   "source": [
    "Y ahora sí, utilizando la función anterior vamos a remuestrear los datos de la\n",
    "SST (`input_file`) a la resolución de la velocidad del viento\n",
    "(`match_file`) y guardaremos el resultado en un nuevo archivo GeoTIFF\n",
    "(`output_file`)."
   ]
  },
  {
   "cell_type": "code",
   "execution_count": 14,
   "metadata": {},
   "outputs": [],
   "source": [
    "sst_tif = f'{geotiff_dir}/2014_01_jplMURSST41.tif'\n",
    "wind_tif = f'{geotiff_dir}/2014_01_cmems_obs-wind_l4.tif'\n",
    "\n"
   ]
  }
 ],
 "metadata": {
  "kernelspec": {
   "display_name": "Python 3",
   "language": "python",
   "name": "python3"
  },
  "language_info": {
   "codemirror_mode": {
    "name": "ipython",
    "version": 3
   },
   "file_extension": ".py",
   "mimetype": "text/x-python",
   "name": "python",
   "nbconvert_exporter": "python",
   "pygments_lexer": "ipython3",
   "version": "3.10.12"
  }
 },
 "nbformat": 4,
 "nbformat_minor": 2
}
